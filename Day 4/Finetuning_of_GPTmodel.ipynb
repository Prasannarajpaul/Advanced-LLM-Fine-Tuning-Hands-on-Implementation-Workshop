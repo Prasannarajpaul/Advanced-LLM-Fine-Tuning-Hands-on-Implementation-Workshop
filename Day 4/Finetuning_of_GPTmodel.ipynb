{
  "nbformat": 4,
  "nbformat_minor": 0,
  "metadata": {
    "colab": {
      "provenance": [],
      "gpuType": "T4"
    },
    "kernelspec": {
      "name": "python3",
      "display_name": "Python 3"
    },
    "language_info": {
      "name": "python"
    },
    "accelerator": "GPU"
  },
  "cells": [
    {
      "cell_type": "code",
      "execution_count": 1,
      "metadata": {
        "colab": {
          "base_uri": "https://localhost:8080/"
        },
        "id": "o0vtsO0P8siH",
        "outputId": "ace7ff6e-c9fb-4f3b-d01e-1d9577c2b103"
      },
      "outputs": [
        {
          "output_type": "stream",
          "name": "stdout",
          "text": [
            "Collecting openai\n",
            "  Downloading openai-1.51.2-py3-none-any.whl.metadata (24 kB)\n",
            "Requirement already satisfied: anyio<5,>=3.5.0 in /usr/local/lib/python3.10/dist-packages (from openai) (3.7.1)\n",
            "Requirement already satisfied: distro<2,>=1.7.0 in /usr/lib/python3/dist-packages (from openai) (1.7.0)\n",
            "Collecting httpx<1,>=0.23.0 (from openai)\n",
            "  Downloading httpx-0.27.2-py3-none-any.whl.metadata (7.1 kB)\n",
            "Collecting jiter<1,>=0.4.0 (from openai)\n",
            "  Downloading jiter-0.6.1-cp310-cp310-manylinux_2_17_x86_64.manylinux2014_x86_64.whl.metadata (5.2 kB)\n",
            "Requirement already satisfied: pydantic<3,>=1.9.0 in /usr/local/lib/python3.10/dist-packages (from openai) (2.9.2)\n",
            "Requirement already satisfied: sniffio in /usr/local/lib/python3.10/dist-packages (from openai) (1.3.1)\n",
            "Requirement already satisfied: tqdm>4 in /usr/local/lib/python3.10/dist-packages (from openai) (4.66.5)\n",
            "Requirement already satisfied: typing-extensions<5,>=4.11 in /usr/local/lib/python3.10/dist-packages (from openai) (4.12.2)\n",
            "Requirement already satisfied: idna>=2.8 in /usr/local/lib/python3.10/dist-packages (from anyio<5,>=3.5.0->openai) (3.10)\n",
            "Requirement already satisfied: exceptiongroup in /usr/local/lib/python3.10/dist-packages (from anyio<5,>=3.5.0->openai) (1.2.2)\n",
            "Requirement already satisfied: certifi in /usr/local/lib/python3.10/dist-packages (from httpx<1,>=0.23.0->openai) (2024.8.30)\n",
            "Collecting httpcore==1.* (from httpx<1,>=0.23.0->openai)\n",
            "  Downloading httpcore-1.0.6-py3-none-any.whl.metadata (21 kB)\n",
            "Collecting h11<0.15,>=0.13 (from httpcore==1.*->httpx<1,>=0.23.0->openai)\n",
            "  Downloading h11-0.14.0-py3-none-any.whl.metadata (8.2 kB)\n",
            "Requirement already satisfied: annotated-types>=0.6.0 in /usr/local/lib/python3.10/dist-packages (from pydantic<3,>=1.9.0->openai) (0.7.0)\n",
            "Requirement already satisfied: pydantic-core==2.23.4 in /usr/local/lib/python3.10/dist-packages (from pydantic<3,>=1.9.0->openai) (2.23.4)\n",
            "Downloading openai-1.51.2-py3-none-any.whl (383 kB)\n",
            "\u001b[2K   \u001b[90m━━━━━━━━━━━━━━━━━━━━━━━━━━━━━━━━━━━━━━━━\u001b[0m \u001b[32m383.7/383.7 kB\u001b[0m \u001b[31m11.7 MB/s\u001b[0m eta \u001b[36m0:00:00\u001b[0m\n",
            "\u001b[?25hDownloading httpx-0.27.2-py3-none-any.whl (76 kB)\n",
            "\u001b[2K   \u001b[90m━━━━━━━━━━━━━━━━━━━━━━━━━━━━━━━━━━━━━━━━\u001b[0m \u001b[32m76.4/76.4 kB\u001b[0m \u001b[31m6.2 MB/s\u001b[0m eta \u001b[36m0:00:00\u001b[0m\n",
            "\u001b[?25hDownloading httpcore-1.0.6-py3-none-any.whl (78 kB)\n",
            "\u001b[2K   \u001b[90m━━━━━━━━━━━━━━━━━━━━━━━━━━━━━━━━━━━━━━━━\u001b[0m \u001b[32m78.0/78.0 kB\u001b[0m \u001b[31m6.3 MB/s\u001b[0m eta \u001b[36m0:00:00\u001b[0m\n",
            "\u001b[?25hDownloading jiter-0.6.1-cp310-cp310-manylinux_2_17_x86_64.manylinux2014_x86_64.whl (325 kB)\n",
            "\u001b[2K   \u001b[90m━━━━━━━━━━━━━━━━━━━━━━━━━━━━━━━━━━━━━━━━\u001b[0m \u001b[32m325.2/325.2 kB\u001b[0m \u001b[31m23.5 MB/s\u001b[0m eta \u001b[36m0:00:00\u001b[0m\n",
            "\u001b[?25hDownloading h11-0.14.0-py3-none-any.whl (58 kB)\n",
            "\u001b[2K   \u001b[90m━━━━━━━━━━━━━━━━━━━━━━━━━━━━━━━━━━━━━━━━\u001b[0m \u001b[32m58.3/58.3 kB\u001b[0m \u001b[31m6.1 MB/s\u001b[0m eta \u001b[36m0:00:00\u001b[0m\n",
            "\u001b[?25hInstalling collected packages: jiter, h11, httpcore, httpx, openai\n",
            "Successfully installed h11-0.14.0 httpcore-1.0.6 httpx-0.27.2 jiter-0.6.1 openai-1.51.2\n"
          ]
        }
      ],
      "source": [
        "!pip install openai"
      ]
    },
    {
      "cell_type": "code",
      "source": [
        "from google.colab import userdata\n",
        "OPENAI_API_KEY=userdata.get('OPENAI_API_KEY')"
      ],
      "metadata": {
        "id": "awlP9WpGO-H3"
      },
      "execution_count": 2,
      "outputs": []
    },
    {
      "cell_type": "code",
      "source": [
        "import os\n",
        "os.environ['OPENAI_API_KEY']=OPENAI_API_KEY"
      ],
      "metadata": {
        "id": "Ng6SNoaePIG_"
      },
      "execution_count": 3,
      "outputs": []
    },
    {
      "cell_type": "code",
      "source": [
        "from openai import OpenAI"
      ],
      "metadata": {
        "id": "Em9PdtZwPPHu"
      },
      "execution_count": 4,
      "outputs": []
    },
    {
      "cell_type": "code",
      "source": [
        "client=OpenAI()"
      ],
      "metadata": {
        "id": "Rl1Lte4wPTy-"
      },
      "execution_count": 5,
      "outputs": []
    },
    {
      "cell_type": "code",
      "source": [
        "response=client.chat.completions.create(\n",
        "    model=\"gpt-3.5-turbo\",\n",
        "    messages=[\n",
        "        {\"role\": \"user\", \"content\": \"Hello how are you?\"}\n",
        "    ]\n",
        ")"
      ],
      "metadata": {
        "id": "irRcc4_UPbil"
      },
      "execution_count": 6,
      "outputs": []
    },
    {
      "cell_type": "code",
      "source": [
        "print(response.choices[0].message)"
      ],
      "metadata": {
        "id": "neui9uCkXw36",
        "outputId": "67c26e4c-02ef-49be-8389-208b8f5660d2",
        "colab": {
          "base_uri": "https://localhost:8080/"
        }
      },
      "execution_count": 21,
      "outputs": [
        {
          "output_type": "stream",
          "name": "stdout",
          "text": [
            "ChatCompletionMessage(content=\"Hello! I'm just a computer program, so I don't have feelings, but I'm here to help you. How can I assist you today?\", refusal=None, role='assistant', function_call=None, tool_calls=None)\n"
          ]
        }
      ]
    },
    {
      "cell_type": "code",
      "source": [
        "print(response.choices[0].message.content)"
      ],
      "metadata": {
        "id": "6fTKz4w6YAwa",
        "outputId": "5266b2f7-d20a-4093-ba44-0ecbb14c23e5",
        "colab": {
          "base_uri": "https://localhost:8080/"
        }
      },
      "execution_count": 22,
      "outputs": [
        {
          "output_type": "stream",
          "name": "stdout",
          "text": [
            "Hello! I'm just a computer program, so I don't have feelings, but I'm here to help you. How can I assist you today?\n"
          ]
        }
      ]
    },
    {
      "cell_type": "code",
      "source": [
        "from google.colab import drive\n",
        "drive.mount('/content/drive')"
      ],
      "metadata": {
        "id": "JYz9jDfkKYGn",
        "outputId": "11c36569-cf3b-4477-bb0e-b70b91b5bcc9",
        "colab": {
          "base_uri": "https://localhost:8080/"
        }
      },
      "execution_count": 7,
      "outputs": [
        {
          "output_type": "stream",
          "name": "stdout",
          "text": [
            "Mounted at /content/drive\n"
          ]
        }
      ]
    },
    {
      "cell_type": "code",
      "source": [
        "print(response.choices[0].message.content)"
      ],
      "metadata": {
        "colab": {
          "base_uri": "https://localhost:8080/"
        },
        "id": "AMhulLOPP2tn",
        "outputId": "ff32d6ea-4c45-4f3c-be26-51094ae87a5b"
      },
      "execution_count": 8,
      "outputs": [
        {
          "output_type": "stream",
          "name": "stdout",
          "text": [
            "Hello! I'm just a computer program, so I don't have feelings, but I'm here to help you. How can I assist you today?\n"
          ]
        }
      ]
    },
    {
      "cell_type": "code",
      "source": [
        "client.files.create(\n",
        "    ##file=open(\"/content/test.jsonl\", \"rb\"),\n",
        "    file=open(\"/content/drive/MyDrive/test.jsonl\", \"rb\"),\n",
        "    purpose=\"fine-tune\"\n",
        ")"
      ],
      "metadata": {
        "colab": {
          "base_uri": "https://localhost:8080/"
        },
        "id": "bnchQbQkRPT-",
        "outputId": "c96f407a-700d-4be2-e91c-054dd57ec45c"
      },
      "execution_count": 24,
      "outputs": [
        {
          "output_type": "execute_result",
          "data": {
            "text/plain": [
              "FileObject(id='file-zDHA9Lz4kdGiRFW3HBiAhQ7a', bytes=6429, created_at=1728412252, filename='test.jsonl', object='file', purpose='fine-tune', status='processed', status_details=None)"
            ]
          },
          "metadata": {},
          "execution_count": 24
        }
      ]
    },
    {
      "cell_type": "code",
      "source": [
        "client.files.list()"
      ],
      "metadata": {
        "id": "G3zfo22rZR26",
        "outputId": "c7b3f5bd-0782-4f8f-bf2a-4ac4340f6aa3",
        "colab": {
          "base_uri": "https://localhost:8080/"
        }
      },
      "execution_count": 25,
      "outputs": [
        {
          "output_type": "execute_result",
          "data": {
            "text/plain": [
              "SyncPage[FileObject](data=[FileObject(id='file-zDHA9Lz4kdGiRFW3HBiAhQ7a', bytes=6429, created_at=1728412252, filename='test.jsonl', object='file', purpose='fine-tune', status='processed', status_details=None), FileObject(id='file-pSEoKIVja10SFSkn7IRL8PBU', bytes=2192, created_at=1728411203, filename='step_metrics.csv', object='file', purpose='fine-tune-results', status='processed', status_details=None), FileObject(id='file-WDIFEYtsuPH76PrWMiAFLbHV', bytes=6429, created_at=1728410847, filename='test.jsonl', object='file', purpose='fine-tune', status='processed', status_details=None)], object='list', has_more=False, first_id='file-zDHA9Lz4kdGiRFW3HBiAhQ7a', last_id='file-WDIFEYtsuPH76PrWMiAFLbHV')"
            ]
          },
          "metadata": {},
          "execution_count": 25
        }
      ]
    },
    {
      "cell_type": "code",
      "source": [
        "files=client.files.list()"
      ],
      "metadata": {
        "id": "y8RNbMv4SM2u"
      },
      "execution_count": 12,
      "outputs": []
    },
    {
      "cell_type": "code",
      "source": [
        "for file in files:\n",
        "  print(file)"
      ],
      "metadata": {
        "colab": {
          "base_uri": "https://localhost:8080/"
        },
        "id": "OjImi1n1Satf",
        "outputId": "bdf942ee-d925-4720-d062-56d6e169ab1b"
      },
      "execution_count": 26,
      "outputs": [
        {
          "output_type": "stream",
          "name": "stdout",
          "text": [
            "FileObject(id='file-WDIFEYtsuPH76PrWMiAFLbHV', bytes=6429, created_at=1728410847, filename='test.jsonl', object='file', purpose='fine-tune', status='processed', status_details=None)\n"
          ]
        }
      ]
    },
    {
      "cell_type": "code",
      "source": [
        "for file in files:\n",
        "  if file.filename=='test.jsonl':\n",
        "    training_file_id=file.id\n",
        "    break\n"
      ],
      "metadata": {
        "id": "KX5fF4XQSveK"
      },
      "execution_count": 27,
      "outputs": []
    },
    {
      "cell_type": "code",
      "source": [
        "training_file_id"
      ],
      "metadata": {
        "colab": {
          "base_uri": "https://localhost:8080/",
          "height": 35
        },
        "id": "URJHD_w2TIj3",
        "outputId": "3d17de80-1159-44b8-e000-47ef384eddd3"
      },
      "execution_count": 28,
      "outputs": [
        {
          "output_type": "execute_result",
          "data": {
            "text/plain": [
              "'file-WDIFEYtsuPH76PrWMiAFLbHV'"
            ],
            "application/vnd.google.colaboratory.intrinsic+json": {
              "type": "string"
            }
          },
          "metadata": {},
          "execution_count": 28
        }
      ]
    },
    {
      "cell_type": "code",
      "source": [
        "client.fine_tuning.jobs.create(\n",
        "    training_file=training_file_id,\n",
        "    model=\"gpt-3.5-turbo\"\n",
        ")"
      ],
      "metadata": {
        "colab": {
          "base_uri": "https://localhost:8080/"
        },
        "id": "mHCpGz37TJ0m",
        "outputId": "590a6d32-d0b5-4b17-98bd-b2884f7884d9"
      },
      "execution_count": 29,
      "outputs": [
        {
          "output_type": "execute_result",
          "data": {
            "text/plain": [
              "FineTuningJob(id='ftjob-dId9dRdGxZpx7PaMXqOyjo1i', created_at=1728412927, error=Error(code=None, message=None, param=None), fine_tuned_model=None, finished_at=None, hyperparameters=Hyperparameters(n_epochs='auto', batch_size='auto', learning_rate_multiplier='auto'), model='gpt-3.5-turbo-0125', object='fine_tuning.job', organization_id='org-NLo9fWZCyOLTPpygyJeMWL1q', result_files=[], seed=232388584, status='validating_files', trained_tokens=None, training_file='file-WDIFEYtsuPH76PrWMiAFLbHV', validation_file=None, estimated_finish=None, integrations=[], user_provided_suffix=None)"
            ]
          },
          "metadata": {},
          "execution_count": 29
        }
      ]
    },
    {
      "cell_type": "code",
      "source": [
        "client.fine_tuning.jobs.list()"
      ],
      "metadata": {
        "id": "Dcq_ecl9cqCa",
        "outputId": "8ec55645-71ec-49ab-efd0-7579dd1c16a7",
        "colab": {
          "base_uri": "https://localhost:8080/"
        }
      },
      "execution_count": 30,
      "outputs": [
        {
          "output_type": "execute_result",
          "data": {
            "text/plain": [
              "SyncCursorPage[FineTuningJob](data=[FineTuningJob(id='ftjob-dId9dRdGxZpx7PaMXqOyjo1i', created_at=1728412927, error=Error(code=None, message=None, param=None), fine_tuned_model=None, finished_at=None, hyperparameters=Hyperparameters(n_epochs=10, batch_size=1, learning_rate_multiplier=2), model='gpt-3.5-turbo-0125', object='fine_tuning.job', organization_id='org-NLo9fWZCyOLTPpygyJeMWL1q', result_files=[], seed=232388584, status='running', trained_tokens=None, training_file='file-WDIFEYtsuPH76PrWMiAFLbHV', validation_file=None, estimated_finish=1728413228, integrations=[], user_provided_suffix=None), FineTuningJob(id='ftjob-3J8pysieie7KUYYSfMf9CjbI', created_at=1728410900, error=Error(code=None, message=None, param=None), fine_tuned_model='ft:gpt-3.5-turbo-0125:personal::AG8zxnzM', finished_at=1728411199, hyperparameters=Hyperparameters(n_epochs=10, batch_size=1, learning_rate_multiplier=2), model='gpt-3.5-turbo-0125', object='fine_tuning.job', organization_id='org-NLo9fWZCyOLTPpygyJeMWL1q', result_files=['file-pSEoKIVja10SFSkn7IRL8PBU'], seed=855426215, status='succeeded', trained_tokens=10730, training_file='file-WDIFEYtsuPH76PrWMiAFLbHV', validation_file=None, estimated_finish=None, integrations=[], user_provided_suffix=None)], object='list', has_more=False)"
            ]
          },
          "metadata": {},
          "execution_count": 30
        }
      ]
    },
    {
      "cell_type": "code",
      "source": [
        "jobs=client.fine_tuning.jobs.list()"
      ],
      "metadata": {
        "id": "yMmDX_nPXO7v"
      },
      "execution_count": 31,
      "outputs": []
    },
    {
      "cell_type": "code",
      "source": [
        "for job in jobs:\n",
        "  print(job)"
      ],
      "metadata": {
        "colab": {
          "base_uri": "https://localhost:8080/"
        },
        "id": "PJzc3lNgXWS-",
        "outputId": "8ad410b9-3356-45ba-ebcb-9740c8ff95b6"
      },
      "execution_count": 32,
      "outputs": [
        {
          "output_type": "stream",
          "name": "stdout",
          "text": [
            "FineTuningJob(id='ftjob-dId9dRdGxZpx7PaMXqOyjo1i', created_at=1728412927, error=Error(code=None, message=None, param=None), fine_tuned_model=None, finished_at=None, hyperparameters=Hyperparameters(n_epochs=10, batch_size=1, learning_rate_multiplier=2), model='gpt-3.5-turbo-0125', object='fine_tuning.job', organization_id='org-NLo9fWZCyOLTPpygyJeMWL1q', result_files=[], seed=232388584, status='running', trained_tokens=None, training_file='file-WDIFEYtsuPH76PrWMiAFLbHV', validation_file=None, estimated_finish=1728413209, integrations=[], user_provided_suffix=None)\n",
            "FineTuningJob(id='ftjob-3J8pysieie7KUYYSfMf9CjbI', created_at=1728410900, error=Error(code=None, message=None, param=None), fine_tuned_model='ft:gpt-3.5-turbo-0125:personal::AG8zxnzM', finished_at=1728411199, hyperparameters=Hyperparameters(n_epochs=10, batch_size=1, learning_rate_multiplier=2), model='gpt-3.5-turbo-0125', object='fine_tuning.job', organization_id='org-NLo9fWZCyOLTPpygyJeMWL1q', result_files=['file-pSEoKIVja10SFSkn7IRL8PBU'], seed=855426215, status='succeeded', trained_tokens=10730, training_file='file-WDIFEYtsuPH76PrWMiAFLbHV', validation_file=None, estimated_finish=None, integrations=[], user_provided_suffix=None)\n"
          ]
        }
      ]
    },
    {
      "cell_type": "code",
      "source": [
        "client.fine_tuning.jobs.retrieve(\"ftjob-dId9dRdGxZpx7PaMXqOyjo1i\")"
      ],
      "metadata": {
        "colab": {
          "base_uri": "https://localhost:8080/"
        },
        "id": "fESm38I_XdQ_",
        "outputId": "806b8096-ff5d-4639-dee3-22a91e397422"
      },
      "execution_count": 33,
      "outputs": [
        {
          "output_type": "execute_result",
          "data": {
            "text/plain": [
              "FineTuningJob(id='ftjob-dId9dRdGxZpx7PaMXqOyjo1i', created_at=1728412927, error=Error(code=None, message=None, param=None), fine_tuned_model='ft:gpt-3.5-turbo-0125:personal::AG9WN8Pj', finished_at=1728413209, hyperparameters=Hyperparameters(n_epochs=10, batch_size=1, learning_rate_multiplier=2), model='gpt-3.5-turbo-0125', object='fine_tuning.job', organization_id='org-NLo9fWZCyOLTPpygyJeMWL1q', result_files=['file-BBl1qIJRBu41BcED44gSJEJE'], seed=232388584, status='succeeded', trained_tokens=10730, training_file='file-WDIFEYtsuPH76PrWMiAFLbHV', validation_file=None, estimated_finish=None, integrations=[], user_provided_suffix=None)"
            ]
          },
          "metadata": {},
          "execution_count": 33
        }
      ]
    },
    {
      "cell_type": "markdown",
      "source": [],
      "metadata": {
        "id": "lwj42KwRdxoY"
      }
    },
    {
      "cell_type": "code",
      "source": [
        "client.fine_tuning.jobs.retrieve(\"ftjob-dId9dRdGxZpx7PaMXqOyjo1i\")\n"
      ],
      "metadata": {
        "id": "ITURI887X2vX"
      },
      "execution_count": null,
      "outputs": []
    },
    {
      "cell_type": "markdown",
      "source": [],
      "metadata": {
        "id": "cL_JQ_QkdyCh"
      }
    },
    {
      "cell_type": "code",
      "source": [
        "client.fine_tuning.jobs.create(\n",
        "    training_file=training_file_id,\n",
        "    model=\"gpt-3.5-turbo\",\n",
        "    suffix=\"medical_model\"\n",
        ")"
      ],
      "metadata": {
        "id": "Te4YElPJYUrv"
      },
      "execution_count": null,
      "outputs": []
    },
    {
      "cell_type": "code",
      "source": [
        "client.fine_tuning.jobs.retrieve(\"ftjob-dId9dRdGxZpx7PaMXqOyjo1i\")"
      ],
      "metadata": {
        "colab": {
          "base_uri": "https://localhost:8080/"
        },
        "id": "I8CdufceY1Bx",
        "outputId": "b1bb676f-b086-459c-b8e0-302a2a3d74b0"
      },
      "execution_count": 34,
      "outputs": [
        {
          "output_type": "execute_result",
          "data": {
            "text/plain": [
              "FineTuningJob(id='ftjob-dId9dRdGxZpx7PaMXqOyjo1i', created_at=1728412927, error=Error(code=None, message=None, param=None), fine_tuned_model='ft:gpt-3.5-turbo-0125:personal::AG9WN8Pj', finished_at=1728413209, hyperparameters=Hyperparameters(n_epochs=10, batch_size=1, learning_rate_multiplier=2), model='gpt-3.5-turbo-0125', object='fine_tuning.job', organization_id='org-NLo9fWZCyOLTPpygyJeMWL1q', result_files=['file-BBl1qIJRBu41BcED44gSJEJE'], seed=232388584, status='succeeded', trained_tokens=10730, training_file='file-WDIFEYtsuPH76PrWMiAFLbHV', validation_file=None, estimated_finish=None, integrations=[], user_provided_suffix=None)"
            ]
          },
          "metadata": {},
          "execution_count": 34
        }
      ]
    },
    {
      "cell_type": "code",
      "source": [
        "ft:gpt-3.5-turbo-0125:ineuron::AFEToAfm"
      ],
      "metadata": {
        "id": "EG5TLArCY1ce"
      },
      "execution_count": null,
      "outputs": []
    },
    {
      "cell_type": "code",
      "source": [
        "response=client.chat.completions.create(\n",
        "    model=\"ft:gpt-3.5-turbo-0125:personal::AG9WN8Pj\",\n",
        "    messages=[\n",
        "        {\"role\": \"user\", \"content\": \"Hello how are you?\"}\n",
        "    ]\n",
        ")"
      ],
      "metadata": {
        "id": "JREcJ0I8ZDjD"
      },
      "execution_count": 35,
      "outputs": []
    },
    {
      "cell_type": "code",
      "source": [
        "print(response.choices[0].message.content)"
      ],
      "metadata": {
        "colab": {
          "base_uri": "https://localhost:8080/"
        },
        "id": "xzEYwuTZZLGH",
        "outputId": "9c4b54d9-a12c-441d-a3a0-7c75c8387f63"
      },
      "execution_count": 36,
      "outputs": [
        {
          "output_type": "stream",
          "name": "stdout",
          "text": [
            "Hello! I'm just a computer program, so I don't have feelings, but I'm here to help you. How can I assist you today?\n"
          ]
        }
      ]
    },
    {
      "cell_type": "code",
      "source": [
        "response=client.chat.completions.create(\n",
        "    model=\"ft:gpt-3.5-turbo-0125:personal::AG9WN8Pj\",\n",
        "    messages=[\n",
        "        {\"role\": \"user\", \"content\": \"What warranty does a smartphone come with?\"}\n",
        "    ]\n",
        ")"
      ],
      "metadata": {
        "id": "2OpdJdDUZhBh"
      },
      "execution_count": 38,
      "outputs": []
    },
    {
      "cell_type": "code",
      "source": [
        "print(response.choices[0].message.content)"
      ],
      "metadata": {
        "colab": {
          "base_uri": "https://localhost:8080/"
        },
        "id": "V_gtIYeWZmYV",
        "outputId": "27b8b425-ced6-454d-9d07-727249f0f421"
      },
      "execution_count": 39,
      "outputs": [
        {
          "output_type": "stream",
          "name": "stdout",
          "text": [
            "Warranties for smartphones vary by manufacturer and model. Typically, smartphones come with a one-year limited warranty covering manufacturer defects and hardware issues. Additionally, some manufacturers offer extended warranty options for purchase. It is important to read the specific warranty information provided with your smartphone or on the manufacturer's website to understand the coverage and limitations.\n"
          ]
        }
      ]
    },
    {
      "cell_type": "markdown",
      "source": [
        "Warranties for smartphones vary by manufacturer and model, but typically they come with a one-year limited warranty covering manufacturer defects. Additionally, some smartphones may have separate warranties for specific components such as the battery or camera. It is important to review the specific warranty information provided by the manufacturer."
      ],
      "metadata": {
        "id": "_0J-P55gZuZA"
      }
    },
    {
      "cell_type": "markdown",
      "source": [
        " \"Smartphones typically come with a one-year limited warranty covering manufacturer defects. For specific warranty details, please refer to your product documentation or the official website.\""
      ],
      "metadata": {
        "id": "vOUTJOeWZo-B"
      }
    },
    {
      "cell_type": "markdown",
      "source": [
        "### Scnerio:\n",
        "\n",
        "#### lets say you have csv data\n",
        "#### you will convert this data into jsonl using python script\n",
        "#### you will create a proper instruction\n",
        "\n",
        "#### then you have to train your gpt model on top of that converted data"
      ],
      "metadata": {
        "id": "22yAq6EqZ1dR"
      }
    },
    {
      "cell_type": "code",
      "source": [],
      "metadata": {
        "id": "Ug1sZV2TZQ-y"
      },
      "execution_count": null,
      "outputs": []
    }
  ]
}